{
 "cells": [
  {
   "cell_type": "markdown",
   "id": "ddd00114",
   "metadata": {},
   "source": [
    "Grab your bag and put what you've learned in it 🎒📚🤓"
   ]
  },
  {
   "cell_type": "code",
   "execution_count": 1,
   "id": "c62d3ea1",
   "metadata": {},
   "outputs": [],
   "source": [
    "#variables are containers which store values."
   ]
  },
  {
   "cell_type": "markdown",
   "id": "4cc1a570",
   "metadata": {},
   "source": [
    "**Assignment**"
   ]
  },
  {
   "cell_type": "code",
   "execution_count": 2,
   "id": "131012a5",
   "metadata": {},
   "outputs": [
    {
     "name": "stdout",
     "output_type": "stream",
     "text": [
      "7\n",
      "dairy\n"
     ]
    }
   ],
   "source": [
    "x = 7\n",
    "\n",
    "#String variables can be declared either by using single or double quotes:\n",
    "product_category = \"dairy\"\n",
    "product_category = 'dairy'\n",
    "\n",
    "print(x)\n",
    "\n",
    "print(product_category)"
   ]
  },
  {
   "cell_type": "code",
   "execution_count": 3,
   "id": "33288bda",
   "metadata": {},
   "outputs": [
    {
     "ename": "NameError",
     "evalue": "name 'x' is not defined",
     "output_type": "error",
     "traceback": [
      "\u001b[1;31m---------------------------------------------------------------------------\u001b[0m",
      "\u001b[1;31mNameError\u001b[0m                                 Traceback (most recent call last)",
      "\u001b[1;32m~\\AppData\\Local\\Temp\\ipykernel_11424\\2133070861.py\u001b[0m in \u001b[0;36m<module>\u001b[1;34m\u001b[0m\n\u001b[0;32m      2\u001b[0m \u001b[1;32mdel\u001b[0m \u001b[0mx\u001b[0m\u001b[1;33m\u001b[0m\u001b[1;33m\u001b[0m\u001b[0m\n\u001b[0;32m      3\u001b[0m \u001b[1;33m\u001b[0m\u001b[0m\n\u001b[1;32m----> 4\u001b[1;33m \u001b[0mprint\u001b[0m\u001b[1;33m(\u001b[0m\u001b[0mx\u001b[0m\u001b[1;33m)\u001b[0m\u001b[1;33m\u001b[0m\u001b[1;33m\u001b[0m\u001b[0m\n\u001b[0m",
      "\u001b[1;31mNameError\u001b[0m: name 'x' is not defined"
     ]
    }
   ],
   "source": [
    "# a way to delete created variables, functions, etc from the memory of the interpreter\n",
    "del x\n",
    "\n",
    "print(x)"
   ]
  },
  {
   "cell_type": "code",
   "execution_count": 4,
   "id": "def6e19f",
   "metadata": {},
   "outputs": [
    {
     "data": {
      "text/plain": [
       "float"
      ]
     },
     "execution_count": 4,
     "metadata": {},
     "output_type": "execute_result"
    }
   ],
   "source": [
    "#The value and its type stored in a variable can be changed during program execution.\n",
    "\n",
    "price_601 = 2.89\n",
    "\n",
    "#You can get the data type of a variable with the type() function.\n",
    "type(price_601)"
   ]
  },
  {
   "cell_type": "code",
   "execution_count": 5,
   "id": "45ba393d",
   "metadata": {},
   "outputs": [
    {
     "data": {
      "text/plain": [
       "str"
      ]
     },
     "execution_count": 5,
     "metadata": {},
     "output_type": "execute_result"
    }
   ],
   "source": [
    "price_601 = \"unknown\"\n",
    "type(price_601)"
   ]
  },
  {
   "cell_type": "code",
   "execution_count": 6,
   "id": "866dc863",
   "metadata": {},
   "outputs": [
    {
     "name": "stdout",
     "output_type": "stream",
     "text": [
      "11\n",
      "11\n",
      "11.0\n"
     ]
    }
   ],
   "source": [
    "#you can specify the data type of a variable\n",
    "\n",
    "text = str(11)\n",
    "whole_number = int(11)\n",
    "decimal = float(11)\n",
    "\n",
    "print(text)\n",
    "print(whole_number)\n",
    "print(decimal)"
   ]
  },
  {
   "cell_type": "code",
   "execution_count": 7,
   "id": "7f8516e8",
   "metadata": {},
   "outputs": [
    {
     "name": "stdout",
     "output_type": "stream",
     "text": [
      "The type of 'text' variable: <class 'str'>\n",
      "The type of 'whole number' variable: <class 'int'>\n"
     ]
    }
   ],
   "source": [
    "print(\"The type of 'text' variable:\", type(text))\n",
    "print(\"The type of 'whole number' variable:\", type(whole_number))"
   ]
  },
  {
   "cell_type": "markdown",
   "id": "3b65fb85",
   "metadata": {},
   "source": [
    "**Variable Names (Identifiers)**"
   ]
  },
  {
   "cell_type": "code",
   "execution_count": 8,
   "id": "ca037641",
   "metadata": {},
   "outputs": [],
   "source": [
    "#a variable name CAN ONLY CONTAIN alpha-numeric characters and underscores (A-z, 0-9, and _ )."
   ]
  },
  {
   "cell_type": "code",
   "execution_count": 9,
   "id": "db9bae66",
   "metadata": {},
   "outputs": [
    {
     "ename": "SyntaxError",
     "evalue": "invalid syntax (4030093252.py, line 1)",
     "output_type": "error",
     "traceback": [
      "\u001b[1;36m  File \u001b[1;32m\"C:\\Users\\beytu\\AppData\\Local\\Temp\\ipykernel_11424\\4030093252.py\"\u001b[1;36m, line \u001b[1;32m1\u001b[0m\n\u001b[1;33m    1x37_IoTdevice = 'pressure' #CANNOT begin with a number\u001b[0m\n\u001b[1;37m     ^\u001b[0m\n\u001b[1;31mSyntaxError\u001b[0m\u001b[1;31m:\u001b[0m invalid syntax\n"
     ]
    }
   ],
   "source": [
    "1x37_IoTdevice = 'pressure' #CANNOT begin with a number"
   ]
  },
  {
   "cell_type": "code",
   "execution_count": 10,
   "id": "1db0d58f",
   "metadata": {},
   "outputs": [
    {
     "ename": "SyntaxError",
     "evalue": "cannot assign to operator (1884821769.py, line 1)",
     "output_type": "error",
     "traceback": [
      "\u001b[1;36m  File \u001b[1;32m\"C:\\Users\\beytu\\AppData\\Local\\Temp\\ipykernel_11424\\1884821769.py\"\u001b[1;36m, line \u001b[1;32m1\u001b[0m\n\u001b[1;33m    user^name = 'BAG' #a variable name CANNOT CONTAIN speacial characters except underscore(_).\u001b[0m\n\u001b[1;37m    ^\u001b[0m\n\u001b[1;31mSyntaxError\u001b[0m\u001b[1;31m:\u001b[0m cannot assign to operator\n"
     ]
    }
   ],
   "source": [
    "user^name = 'BAG' #a variable name CANNOT CONTAIN speacial characters except underscore(_)."
   ]
  },
  {
   "cell_type": "code",
   "execution_count": 11,
   "id": "46da7bf0",
   "metadata": {},
   "outputs": [
    {
     "ename": "SyntaxError",
     "evalue": "invalid syntax (389094305.py, line 1)",
     "output_type": "error",
     "traceback": [
      "\u001b[1;36m  File \u001b[1;32m\"C:\\Users\\beytu\\AppData\\Local\\Temp\\ipykernel_11424\\389094305.py\"\u001b[1;36m, line \u001b[1;32m1\u001b[0m\n\u001b[1;33m    mail!adress! = 'xyz@gmail.com'\u001b[0m\n\u001b[1;37m        ^\u001b[0m\n\u001b[1;31mSyntaxError\u001b[0m\u001b[1;31m:\u001b[0m invalid syntax\n"
     ]
    }
   ],
   "source": [
    "mail!adress! = 'xyz@gmail.com'"
   ]
  },
  {
   "cell_type": "code",
   "execution_count": 12,
   "id": "25f4f1f0",
   "metadata": {},
   "outputs": [
    {
     "ename": "SyntaxError",
     "evalue": "invalid syntax (1785274597.py, line 6)",
     "output_type": "error",
     "traceback": [
      "\u001b[1;36m  File \u001b[1;32m\"C:\\Users\\beytu\\AppData\\Local\\Temp\\ipykernel_11424\\1785274597.py\"\u001b[1;36m, line \u001b[1;32m6\u001b[0m\n\u001b[1;33m    import = 'Italy'\u001b[0m\n\u001b[1;37m           ^\u001b[0m\n\u001b[1;31mSyntaxError\u001b[0m\u001b[1;31m:\u001b[0m invalid syntax\n"
     ]
    }
   ],
   "source": [
    "#There is one more restriction on identifier names. \n",
    "#The python language reserves a small set of keywords that has special functionality. \n",
    "#The reserved words(keywords) cannot be used naming the variable.\n",
    "\n",
    "#Where do we export hazelnut to?\n",
    "import = 'Italy'"
   ]
  },
  {
   "cell_type": "code",
   "execution_count": 13,
   "id": "76db3cba",
   "metadata": {},
   "outputs": [
    {
     "name": "stdout",
     "output_type": "stream",
     "text": [
      "1\n",
      "Yes\n",
      "True\n"
     ]
    }
   ],
   "source": [
    "#Variable names are case-sensitive.\n",
    "\n",
    "scored = 1\n",
    "Scored = \"Yes\"\n",
    "SCORED = True\n",
    "#Three different variables will be created.\n",
    "\n",
    "print(scored)\n",
    "print(Scored)\n",
    "print(SCORED)"
   ]
  },
  {
   "cell_type": "code",
   "execution_count": 14,
   "id": "e4da5fa4",
   "metadata": {},
   "outputs": [],
   "source": [
    "#In order to make word boundaries easier to see\n",
    "#The most commonly used methods for constructing a multi-word identifier are below:\n",
    "camelCaseExample = \"If you liked this video content\" #second and subsequent words are capitalized.\n",
    "PascalCaseExample = \"Subscribe to the channel\" #identical to camel case, except the first word is also capitalized.\n",
    "snake_case_example = \"Press the bell icon to get new video updates.\" #words are separated by underscores."
   ]
  },
  {
   "cell_type": "code",
   "execution_count": 15,
   "id": "0c88070b",
   "metadata": {},
   "outputs": [],
   "source": [
    "#Also, Python allows assigning a single value to several variables simultaneously with “=” operators. \n",
    "hum_place1 = hum_place2 = hum_place3 = 40"
   ]
  },
  {
   "cell_type": "code",
   "execution_count": 16,
   "id": "89f077cf",
   "metadata": {},
   "outputs": [
    {
     "name": "stdout",
     "output_type": "stream",
     "text": [
      "The humidity ratio in the place 1: 40\n",
      "The humidity ratio in the place 2: 40\n"
     ]
    }
   ],
   "source": [
    "print(\"The humidity ratio in the place 1:\", hum_place1)\n",
    "print(\"The humidity ratio in the place 2:\", hum_place2)"
   ]
  },
  {
   "cell_type": "code",
   "execution_count": 17,
   "id": "5430f840",
   "metadata": {},
   "outputs": [
    {
     "name": "stdout",
     "output_type": "stream",
     "text": [
      "The humidity ratio in the place 1: 40\n",
      "The humidity ratio in the place 2: 50\n"
     ]
    }
   ],
   "source": [
    "hum_place2 = 50\n",
    "\n",
    "print(\"The humidity ratio in the place 1:\", hum_place1)\n",
    "print(\"The humidity ratio in the place 2:\", hum_place2)"
   ]
  },
  {
   "cell_type": "code",
   "execution_count": 18,
   "id": "d23bf21a",
   "metadata": {},
   "outputs": [
    {
     "name": "stdout",
     "output_type": "stream",
     "text": [
      "warriors\n",
      "tigers\n",
      "bulls\n"
     ]
    }
   ],
   "source": [
    "teams = [\"warriors\", \"tigers\", \"bulls\"]\n",
    "\n",
    "black, orange, red = teams\n",
    "\n",
    "print(black)\n",
    "print(orange)\n",
    "print(red)"
   ]
  },
  {
   "cell_type": "code",
   "execution_count": 19,
   "id": "5aad4f2a",
   "metadata": {},
   "outputs": [
    {
     "ename": "ValueError",
     "evalue": "not enough values to unpack (expected 3, got 2)",
     "output_type": "error",
     "traceback": [
      "\u001b[1;31m---------------------------------------------------------------------------\u001b[0m",
      "\u001b[1;31mValueError\u001b[0m                                Traceback (most recent call last)",
      "\u001b[1;32m~\\AppData\\Local\\Temp\\ipykernel_11424\\1667362026.py\u001b[0m in \u001b[0;36m<module>\u001b[1;34m\u001b[0m\n\u001b[0;32m      1\u001b[0m \u001b[0mteams\u001b[0m \u001b[1;33m=\u001b[0m \u001b[1;33m[\u001b[0m\u001b[1;34m\"warriors\"\u001b[0m\u001b[1;33m,\u001b[0m \u001b[1;34m\"tigers\"\u001b[0m\u001b[1;33m]\u001b[0m\u001b[1;33m\u001b[0m\u001b[1;33m\u001b[0m\u001b[0m\n\u001b[0;32m      2\u001b[0m \u001b[1;33m\u001b[0m\u001b[0m\n\u001b[1;32m----> 3\u001b[1;33m \u001b[0mblack\u001b[0m\u001b[1;33m,\u001b[0m \u001b[0morange\u001b[0m\u001b[1;33m,\u001b[0m \u001b[0mred\u001b[0m \u001b[1;33m=\u001b[0m \u001b[0mteams\u001b[0m\u001b[1;33m\u001b[0m\u001b[1;33m\u001b[0m\u001b[0m\n\u001b[0m",
      "\u001b[1;31mValueError\u001b[0m: not enough values to unpack (expected 3, got 2)"
     ]
    }
   ],
   "source": [
    "teams = [\"warriors\", \"tigers\"]\n",
    "\n",
    "black, orange, red = teams"
   ]
  },
  {
   "cell_type": "code",
   "execution_count": 20,
   "id": "69386169",
   "metadata": {},
   "outputs": [
    {
     "ename": "ValueError",
     "evalue": "too many values to unpack (expected 3)",
     "output_type": "error",
     "traceback": [
      "\u001b[1;31m---------------------------------------------------------------------------\u001b[0m",
      "\u001b[1;31mValueError\u001b[0m                                Traceback (most recent call last)",
      "\u001b[1;32m~\\AppData\\Local\\Temp\\ipykernel_11424\\3942553891.py\u001b[0m in \u001b[0;36m<module>\u001b[1;34m\u001b[0m\n\u001b[0;32m      1\u001b[0m \u001b[0mteams\u001b[0m \u001b[1;33m=\u001b[0m \u001b[1;33m[\u001b[0m\u001b[1;34m\"warriors\"\u001b[0m\u001b[1;33m,\u001b[0m \u001b[1;34m\"tigers\"\u001b[0m\u001b[1;33m,\u001b[0m \u001b[1;34m\"bulls\"\u001b[0m\u001b[1;33m,\u001b[0m \u001b[1;34m\"suns\"\u001b[0m\u001b[1;33m]\u001b[0m\u001b[1;33m\u001b[0m\u001b[1;33m\u001b[0m\u001b[0m\n\u001b[0;32m      2\u001b[0m \u001b[1;33m\u001b[0m\u001b[0m\n\u001b[1;32m----> 3\u001b[1;33m \u001b[0mblack\u001b[0m\u001b[1;33m,\u001b[0m \u001b[0morange\u001b[0m\u001b[1;33m,\u001b[0m \u001b[0mred\u001b[0m \u001b[1;33m=\u001b[0m \u001b[0mteams\u001b[0m\u001b[1;33m\u001b[0m\u001b[1;33m\u001b[0m\u001b[0m\n\u001b[0m",
      "\u001b[1;31mValueError\u001b[0m: too many values to unpack (expected 3)"
     ]
    }
   ],
   "source": [
    "teams = [\"warriors\", \"tigers\", \"bulls\", \"suns\"]\n",
    "\n",
    "black, orange, red = teams"
   ]
  },
  {
   "cell_type": "code",
   "execution_count": 21,
   "id": "87b19daa",
   "metadata": {},
   "outputs": [
    {
     "name": "stdout",
     "output_type": "stream",
     "text": [
      "Member's name: Beytullah\n",
      "Member's age: 24\n",
      "Member's type of membership: Standard\n"
     ]
    }
   ],
   "source": [
    "#Python allows adding different values in a single line with “,” operators.\n",
    "name, age, is_premium_member = \"Beytullah\", 24, False\n",
    "\n",
    "print(\"Member's name:\", name)\n",
    "print(\"Member's age:\", age)\n",
    "print(\"Member's type of membership:\", \"Premium\" if is_premium_member==True else \"Standard\")"
   ]
  },
  {
   "cell_type": "code",
   "execution_count": 22,
   "id": "dbd3fe22",
   "metadata": {},
   "outputs": [
    {
     "name": "stdout",
     "output_type": "stream",
     "text": [
      "Have a good day, our member: Beytullah Göyem\n"
     ]
    }
   ],
   "source": [
    "first_name = \"Beytullah\"\n",
    "last_name = \"Göyem\"\n",
    "\n",
    "full_name = first_name + \" \" + last_name\n",
    "\n",
    "print(\"Have a good day, our member:\", full_name)"
   ]
  },
  {
   "cell_type": "code",
   "execution_count": 23,
   "id": "9df9a826",
   "metadata": {},
   "outputs": [
    {
     "name": "stdout",
     "output_type": "stream",
     "text": [
      "26.3 celcius\n"
     ]
    },
    {
     "ename": "TypeError",
     "evalue": "unsupported operand type(s) for +: 'float' and 'str'",
     "output_type": "error",
     "traceback": [
      "\u001b[1;31m---------------------------------------------------------------------------\u001b[0m",
      "\u001b[1;31mTypeError\u001b[0m                                 Traceback (most recent call last)",
      "\u001b[1;32m~\\AppData\\Local\\Temp\\ipykernel_11424\\1478869072.py\u001b[0m in \u001b[0;36m<module>\u001b[1;34m\u001b[0m\n\u001b[0;32m      3\u001b[0m \u001b[0mprint\u001b[0m\u001b[1;33m(\u001b[0m\u001b[0mdegree\u001b[0m\u001b[1;33m,\u001b[0m \u001b[0munit\u001b[0m\u001b[1;33m)\u001b[0m\u001b[1;33m\u001b[0m\u001b[1;33m\u001b[0m\u001b[0m\n\u001b[0;32m      4\u001b[0m \u001b[1;33m\u001b[0m\u001b[0m\n\u001b[1;32m----> 5\u001b[1;33m \u001b[0mtemp\u001b[0m \u001b[1;33m=\u001b[0m \u001b[0mdegree\u001b[0m \u001b[1;33m+\u001b[0m \u001b[0munit\u001b[0m \u001b[1;31m#you can only concatenate str to str\u001b[0m\u001b[1;33m\u001b[0m\u001b[1;33m\u001b[0m\u001b[0m\n\u001b[0m",
      "\u001b[1;31mTypeError\u001b[0m: unsupported operand type(s) for +: 'float' and 'str'"
     ]
    }
   ],
   "source": [
    "degree = 26.3\n",
    "unit = \"celcius\"\n",
    "print(degree, unit)\n",
    "\n",
    "temp = degree + unit #you can only concatenate str to str"
   ]
  },
  {
   "cell_type": "markdown",
   "id": "721799f4",
   "metadata": {},
   "source": [
    "### Types of Variables"
   ]
  },
  {
   "cell_type": "markdown",
   "id": "7d7018f5",
   "metadata": {},
   "source": [
    "##### 1. Local Variables"
   ]
  },
  {
   "cell_type": "code",
   "execution_count": 24,
   "id": "146d806d",
   "metadata": {},
   "outputs": [],
   "source": [
    "#The variables declared inside a function and used only within the scope of that particular function"
   ]
  },
  {
   "cell_type": "code",
   "execution_count": 25,
   "id": "e80cb7d5",
   "metadata": {},
   "outputs": [
    {
     "name": "stdout",
     "output_type": "stream",
     "text": [
      "The depth of the package: 40 cm\n",
      "The volume of the package: 0.16 m3\n"
     ]
    }
   ],
   "source": [
    "def calculating_package_volume():\n",
    "    length_cm = 80 #a local variable\n",
    "    width_cm = 50 #a local variable\n",
    "    depth_cm = 40 #a local variable\n",
    "    print(\"The depth of the package:\", depth_cm, \"cm\") #accessing the local variable inside the function\n",
    "    \n",
    "    volume_m3 = length_cm * width_cm * depth_cm * (10**-6) #1 cubic centimeter is equal to 0.000001 cubic meter.\n",
    "    \n",
    "    print(\"The volume of the package:\", volume_m3, \"m3\")\n",
    "    \n",
    "calculating_package_volume()"
   ]
  },
  {
   "cell_type": "markdown",
   "id": "5feb8946",
   "metadata": {},
   "source": [
    "##### 2. Global Variables"
   ]
  },
  {
   "cell_type": "code",
   "execution_count": 26,
   "id": "98f200e0",
   "metadata": {},
   "outputs": [],
   "source": [
    "#Any variable declared outside any particular function is considered a global variable."
   ]
  },
  {
   "cell_type": "code",
   "execution_count": 27,
   "id": "71b7f3ba",
   "metadata": {},
   "outputs": [
    {
     "name": "stdout",
     "output_type": "stream",
     "text": [
      "1e-06\n",
      "The volume of the package: 0.16 m3\n",
      "1e-06\n"
     ]
    },
    {
     "ename": "NameError",
     "evalue": "name 'depth_cm' is not defined",
     "output_type": "error",
     "traceback": [
      "\u001b[1;31m---------------------------------------------------------------------------\u001b[0m",
      "\u001b[1;31mNameError\u001b[0m                                 Traceback (most recent call last)",
      "\u001b[1;32m~\\AppData\\Local\\Temp\\ipykernel_11424\\3693517919.py\u001b[0m in \u001b[0;36m<module>\u001b[1;34m\u001b[0m\n\u001b[0;32m     14\u001b[0m \u001b[0mcalculating_package_volume\u001b[0m\u001b[1;33m(\u001b[0m\u001b[1;33m)\u001b[0m\u001b[1;33m\u001b[0m\u001b[1;33m\u001b[0m\u001b[0m\n\u001b[0;32m     15\u001b[0m \u001b[0mprint\u001b[0m\u001b[1;33m(\u001b[0m\u001b[0mconvertor\u001b[0m\u001b[1;33m)\u001b[0m \u001b[1;31m#accessing the global variable outside the function\u001b[0m\u001b[1;33m\u001b[0m\u001b[1;33m\u001b[0m\u001b[0m\n\u001b[1;32m---> 16\u001b[1;33m \u001b[0mprint\u001b[0m\u001b[1;33m(\u001b[0m\u001b[0mdepth_cm\u001b[0m\u001b[1;33m)\u001b[0m \u001b[1;31m#getting error again while trying to access the local variable outside the function\u001b[0m\u001b[1;33m\u001b[0m\u001b[1;33m\u001b[0m\u001b[0m\n\u001b[0m",
      "\u001b[1;31mNameError\u001b[0m: name 'depth_cm' is not defined"
     ]
    }
   ],
   "source": [
    "convertor = (10**-6) # a global variable\n",
    "\n",
    "def calculating_package_volume():\n",
    "    length_cm = 80 #a local variable\n",
    "    width_cm = 50 #a local variable\n",
    "    depth_cm = 40 #a local variable\n",
    "    \n",
    "    print(convertor) #accessing the global variable inside the function\n",
    "    \n",
    "    volume_m3 = length_cm * width_cm * depth_cm * convertor  #using global variable within a function for converting cm3 into m3.\n",
    "    \n",
    "    print(\"The volume of the package:\", volume_m3, \"m3\")\n",
    "    \n",
    "calculating_package_volume()\n",
    "print(convertor) #accessing the global variable outside the function\n",
    "print(depth_cm) #getting error again while trying to access the local variable outside the function"
   ]
  },
  {
   "cell_type": "code",
   "execution_count": 28,
   "id": "5ae5d995",
   "metadata": {},
   "outputs": [
    {
     "name": "stdout",
     "output_type": "stream",
     "text": [
      "The price of the coke: 1.0\n",
      "The price of the coke: 1.0\n"
     ]
    }
   ],
   "source": [
    "coke_price = 0.75\n",
    "def calculating_price():\n",
    "    global coke_price #we use global keyword to change the value of the global variable inside a function\n",
    "    deposit = 0.25\n",
    "    coke_price = coke_price + deposit\n",
    "    print(\"The price of the coke:\", coke_price)\n",
    "\n",
    "calculating_price()\n",
    "\n",
    "print(\"The price of the coke:\", coke_price)"
   ]
  },
  {
   "cell_type": "code",
   "execution_count": 29,
   "id": "3d79bd76",
   "metadata": {},
   "outputs": [
    {
     "ename": "UnboundLocalError",
     "evalue": "local variable 'coke_price' referenced before assignment",
     "output_type": "error",
     "traceback": [
      "\u001b[1;31m---------------------------------------------------------------------------\u001b[0m",
      "\u001b[1;31mUnboundLocalError\u001b[0m                         Traceback (most recent call last)",
      "\u001b[1;32m~\\AppData\\Local\\Temp\\ipykernel_11424\\2618752866.py\u001b[0m in \u001b[0;36m<module>\u001b[1;34m\u001b[0m\n\u001b[0;32m      5\u001b[0m     \u001b[0mprint\u001b[0m\u001b[1;33m(\u001b[0m\u001b[1;34m\"The price of the coke:\"\u001b[0m\u001b[1;33m,\u001b[0m \u001b[0mcoke_price\u001b[0m\u001b[1;33m)\u001b[0m\u001b[1;33m\u001b[0m\u001b[1;33m\u001b[0m\u001b[0m\n\u001b[0;32m      6\u001b[0m \u001b[1;33m\u001b[0m\u001b[0m\n\u001b[1;32m----> 7\u001b[1;33m \u001b[0mcalculating_price\u001b[0m\u001b[1;33m(\u001b[0m\u001b[1;33m)\u001b[0m\u001b[1;33m\u001b[0m\u001b[1;33m\u001b[0m\u001b[0m\n\u001b[0m\u001b[0;32m      8\u001b[0m \u001b[1;33m\u001b[0m\u001b[0m\n\u001b[0;32m      9\u001b[0m \u001b[0mprint\u001b[0m\u001b[1;33m(\u001b[0m\u001b[1;34m\"The price of the coke:\"\u001b[0m\u001b[1;33m,\u001b[0m \u001b[0mcoke_price\u001b[0m\u001b[1;33m)\u001b[0m\u001b[1;33m\u001b[0m\u001b[1;33m\u001b[0m\u001b[0m\n",
      "\u001b[1;32m~\\AppData\\Local\\Temp\\ipykernel_11424\\2618752866.py\u001b[0m in \u001b[0;36mcalculating_price\u001b[1;34m()\u001b[0m\n\u001b[0;32m      2\u001b[0m \u001b[1;32mdef\u001b[0m \u001b[0mcalculating_price\u001b[0m\u001b[1;33m(\u001b[0m\u001b[1;33m)\u001b[0m\u001b[1;33m:\u001b[0m\u001b[1;33m\u001b[0m\u001b[1;33m\u001b[0m\u001b[0m\n\u001b[0;32m      3\u001b[0m     \u001b[0mdeposit\u001b[0m \u001b[1;33m=\u001b[0m \u001b[1;36m0.25\u001b[0m\u001b[1;33m\u001b[0m\u001b[1;33m\u001b[0m\u001b[0m\n\u001b[1;32m----> 4\u001b[1;33m     \u001b[0mcoke_price\u001b[0m \u001b[1;33m=\u001b[0m \u001b[0mcoke_price\u001b[0m \u001b[1;33m+\u001b[0m \u001b[0mdeposit\u001b[0m \u001b[1;31m#you can't change the value of this variable without global keyword\u001b[0m\u001b[1;33m\u001b[0m\u001b[1;33m\u001b[0m\u001b[0m\n\u001b[0m\u001b[0;32m      5\u001b[0m     \u001b[0mprint\u001b[0m\u001b[1;33m(\u001b[0m\u001b[1;34m\"The price of the coke:\"\u001b[0m\u001b[1;33m,\u001b[0m \u001b[0mcoke_price\u001b[0m\u001b[1;33m)\u001b[0m\u001b[1;33m\u001b[0m\u001b[1;33m\u001b[0m\u001b[0m\n\u001b[0;32m      6\u001b[0m \u001b[1;33m\u001b[0m\u001b[0m\n",
      "\u001b[1;31mUnboundLocalError\u001b[0m: local variable 'coke_price' referenced before assignment"
     ]
    }
   ],
   "source": [
    "coke_price = 0.75\n",
    "def calculating_price():\n",
    "    deposit = 0.25\n",
    "    coke_price = coke_price + deposit #you can't change the value of this variable without global keyword\n",
    "    print(\"The price of the coke:\", coke_price)\n",
    "\n",
    "calculating_price()\n",
    "\n",
    "print(\"The price of the coke:\", coke_price)"
   ]
  },
  {
   "cell_type": "code",
   "execution_count": 30,
   "id": "6006c930",
   "metadata": {},
   "outputs": [
    {
     "name": "stdout",
     "output_type": "stream",
     "text": [
      "The price of the coke: 1.0\n",
      "The price of the coke: 0.75\n"
     ]
    }
   ],
   "source": [
    "coke_price = 0.75\n",
    "def calculating_price():\n",
    "    deposit = 0.25\n",
    "    coke_price = 0.75 #or define a local 'coke_price' variable, it doesn't affect the value of the global 'coke_price' variable\n",
    "    coke_price = coke_price + deposit \n",
    "    print(\"The price of the coke:\", coke_price)\n",
    "\n",
    "calculating_price()\n",
    "\n",
    "print(\"The price of the coke:\", coke_price)"
   ]
  },
  {
   "cell_type": "code",
   "execution_count": 31,
   "id": "3e344f16",
   "metadata": {},
   "outputs": [
    {
     "name": "stdout",
     "output_type": "stream",
     "text": [
      "The price of the coke with deposit: 1.0\n"
     ]
    }
   ],
   "source": [
    "coke_price = 0.75\n",
    "def calculating_price():\n",
    "    deposit = 0.25\n",
    "    new_coke_price = coke_price + deposit #or assign the result to a different identifier\n",
    "    print(\"The price of the coke with deposit:\", new_coke_price)\n",
    "\n",
    "calculating_price()"
   ]
  },
  {
   "cell_type": "markdown",
   "id": "2f30d35a",
   "metadata": {},
   "source": [
    "And... You are ready for the next destination anymore! 🚀.............................................📍Expressions"
   ]
  }
 ],
 "metadata": {
  "kernelspec": {
   "display_name": "Python 3 (ipykernel)",
   "language": "python",
   "name": "python3"
  },
  "language_info": {
   "codemirror_mode": {
    "name": "ipython",
    "version": 3
   },
   "file_extension": ".py",
   "mimetype": "text/x-python",
   "name": "python",
   "nbconvert_exporter": "python",
   "pygments_lexer": "ipython3",
   "version": "3.9.13"
  }
 },
 "nbformat": 4,
 "nbformat_minor": 5
}
