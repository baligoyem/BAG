{
 "cells": [
  {
   "cell_type": "markdown",
   "id": "497345be",
   "metadata": {},
   "source": [
    "Grab your bag and put what you've learned in it 🎒📚🤓"
   ]
  },
  {
   "cell_type": "code",
   "execution_count": 1,
   "id": "ad4b76f1",
   "metadata": {},
   "outputs": [],
   "source": [
    "#A piece of code that produces some result."
   ]
  },
  {
   "cell_type": "code",
   "execution_count": 2,
   "id": "1035ffce",
   "metadata": {},
   "outputs": [
    {
     "name": "stdout",
     "output_type": "stream",
     "text": [
      "12\n"
     ]
    }
   ],
   "source": [
    "quota = 9   # a statement is different from expressions. It doesn't produce some value.\n",
    "\n",
    "#In this expression, 3 is added to the variable x. After the addition is performed, the result is assigned to the variable x.\n",
    "quota = quota + 3   # the part after equals sign is an expression here\n",
    "\n",
    "#An expression can contain identifiers, operators, and operands:\n",
    "    #An IDENTIFIER is used to define and identify a variable.\n",
    "    #An OPERATOR is a special symbol that performs the arithmetic or logical computations.\n",
    "    #The values that an operator acts on are called OPERANDS. \n",
    "    \n",
    "print(quota)    # a statement is used for creating variables or for displaying values. "
   ]
  },
  {
   "cell_type": "markdown",
   "id": "1c64fda1",
   "metadata": {},
   "source": [
    "### Types of Expression\n",
    "\n",
    "##### 1. Constant Expressions"
   ]
  },
  {
   "cell_type": "code",
   "execution_count": 3,
   "id": "5455aecc",
   "metadata": {},
   "outputs": [
    {
     "name": "stdout",
     "output_type": "stream",
     "text": [
      "After 2 players were shown a red card, the team has 9 players left.\n"
     ]
    }
   ],
   "source": [
    "#contains only constant values\n",
    "#A constant is a value that cannot be changed.\n",
    "\n",
    "no_players = 11 - 2 #here both 11 and 2 are constants but no_players is a variable.\n",
    "\n",
    "print(\"After 2 players were shown a red card, the team has {} players left.\".format(no_players))"
   ]
  },
  {
   "cell_type": "markdown",
   "id": "d0734443",
   "metadata": {},
   "source": [
    "##### 2. Arithmetic Expressions"
   ]
  },
  {
   "cell_type": "code",
   "execution_count": 4,
   "id": "5f815253",
   "metadata": {},
   "outputs": [
    {
     "name": "stdout",
     "output_type": "stream",
     "text": [
      "20\n"
     ]
    }
   ],
   "source": [
    "#contains a combination of arithmetic operators such as *, / and **, operands, and sometimes parenthesis\n",
    "\n",
    "price = 5\n",
    "quantity = 4\n",
    "\n",
    "total = price * quantity     #multiplication of price and quantity\n",
    "\n",
    "print(total)"
   ]
  },
  {
   "cell_type": "markdown",
   "id": "84a16941",
   "metadata": {},
   "source": [
    "##### 3. Integral / Floating Expressions"
   ]
  },
  {
   "cell_type": "code",
   "execution_count": 5,
   "id": "fd33b83e",
   "metadata": {},
   "outputs": [
    {
     "name": "stdout",
     "output_type": "stream",
     "text": [
      "The room temperature is 25 degrees anymore.\n"
     ]
    }
   ],
   "source": [
    "#is used for computations and type conversion (integer to float, a string to integer, etc.)\n",
    "\n",
    "temp = 22      # an integer number\n",
    "increase = 3.2    # a floating point number\n",
    "\n",
    "new_temp = temp + int(increase)\n",
    "\n",
    "print(\"The room temperature is {} degrees anymore.\".format(new_temp))"
   ]
  },
  {
   "cell_type": "markdown",
   "id": "1b346e3c",
   "metadata": {},
   "source": [
    "##### 4. Relational Expressions"
   ]
  },
  {
   "cell_type": "code",
   "execution_count": 6,
   "id": "a4f7c7f6",
   "metadata": {},
   "outputs": [
    {
     "name": "stdout",
     "output_type": "stream",
     "text": [
      "False\n"
     ]
    }
   ],
   "source": [
    "#contains relational/comparison operators like ==, >= and <\n",
    "#results in either True or False (boolean result)\n",
    "\n",
    "total_invoice = 64\n",
    "per_worker = 8\n",
    "limit = 7.0\n",
    "\n",
    "is_enough = (total_invoice/per_worker) <= limit\n",
    "# is division of a and b smaller than c?\n",
    "print(is_enough)"
   ]
  },
  {
   "cell_type": "markdown",
   "id": "ddd48c9d",
   "metadata": {},
   "source": [
    "##### 5. Logical Expressions"
   ]
  },
  {
   "cell_type": "code",
   "execution_count": 7,
   "id": "bbc20f2f",
   "metadata": {},
   "outputs": [
    {
     "name": "stdout",
     "output_type": "stream",
     "text": [
      "False True False\n"
     ]
    }
   ],
   "source": [
    "# logical operators: and, or, not\n",
    "\n",
    "\n",
    "fst_exp = False and True  #The expression returns True if both x and y are true, else it returns False.\n",
    "#0 ∧ 1 = 0(False)\n",
    "\n",
    "snd_exp = (3 != 6) or (-4 > 3) #The expression returns True if at least one of x or y is True.\n",
    "#True(1) v False(0) = True(1)\n",
    "\n",
    "trd_exp = not snd_exp #the opposite value of the value of snd_exp\n",
    "#not True = False\n",
    "\n",
    "print(fst_exp, snd_exp, trd_exp)"
   ]
  },
  {
   "cell_type": "markdown",
   "id": "8844b77c",
   "metadata": {},
   "source": [
    "##### 6. Bitwise Expressions"
   ]
  },
  {
   "cell_type": "code",
   "execution_count": 8,
   "id": "5f72683a",
   "metadata": {},
   "outputs": [
    {
     "name": "stdout",
     "output_type": "stream",
     "text": [
      "1 right shift of 15 results: 7\n",
      "1 left shift of 15 results: 30\n"
     ]
    }
   ],
   "source": [
    "num = 15\n",
    "shift = 1\n",
    "\n",
    "right_shift = num >> shift     # num // (shift**2) \n",
    "# // is used to find the floor of the quotient when first operand is divided by the second.\n",
    "\n",
    "left_shift = num << shift      # num * (shift**2)\n",
    "\n",
    "print(\"{} right shift of {} results:\".format(shift, num), right_shift)\n",
    "print(\"{} left shift of {} results:\".format(shift, num), left_shift)"
   ]
  },
  {
   "cell_type": "markdown",
   "id": "9d56e300",
   "metadata": {},
   "source": [
    "##### 7. Combinational Expressions"
   ]
  },
  {
   "cell_type": "code",
   "execution_count": 9,
   "id": "40f670c8",
   "metadata": {},
   "outputs": [
    {
     "name": "stdout",
     "output_type": "stream",
     "text": [
      "Result obtained:  125\n"
     ]
    }
   ],
   "source": [
    "#If an expression contains multiple expressions in it, this expression is called as a combinational expression.\n",
    "\n",
    "a = 5\n",
    "b = 13\n",
    "c = 2\n",
    "\n",
    "result = a ** (b >> c)\n",
    "#5**3\n",
    "\n",
    "print(\"Result obtained: \", result)"
   ]
  },
  {
   "cell_type": "code",
   "execution_count": 10,
   "id": "9b020d29",
   "metadata": {},
   "outputs": [],
   "source": [
    "#If there are various operators in an expression then the operators are resolved based on their precedence/priority:\n",
    "    #1. Parenthesis             ()[]{}\n",
    "    #2. Exponentiation          **\n",
    "    #4. Multiply, Divide        * /\n",
    "    #5. Addition, Substraction  + -\n",
    "    #6. Shift                   >> <<    "
   ]
  },
  {
   "cell_type": "code",
   "execution_count": 11,
   "id": "841fc9fe",
   "metadata": {},
   "outputs": [
    {
     "name": "stdout",
     "output_type": "stream",
     "text": [
      "The answer should be 54\n"
     ]
    }
   ],
   "source": [
    "result = 6 * 3 ** 2\n",
    "\n",
    "print(\"The answer should be\", result)"
   ]
  },
  {
   "cell_type": "markdown",
   "id": "819719ad",
   "metadata": {},
   "source": [
    "##### 8. Conditional Expressions"
   ]
  },
  {
   "cell_type": "code",
   "execution_count": 12,
   "id": "8be2f9f2",
   "metadata": {},
   "outputs": [
    {
     "name": "stdout",
     "output_type": "stream",
     "text": [
      "Champion Argentina\n"
     ]
    }
   ],
   "source": [
    "Argentina = 4\n",
    "France = 2\n",
    "champion = \"Champion Argentina\" if Argentina>France else \"Penalties\" if Argentina==France else \"Champion France\"\n",
    "print(champion)"
   ]
  },
  {
   "cell_type": "markdown",
   "id": "41eb95d9",
   "metadata": {},
   "source": [
    "##### 9. List and Dictionary Comprehensions\n",
    "\n",
    "Comprehensions can make solving issues involving strings much easier using simplified expressions. These methods can save time and precious lines of code."
   ]
  },
  {
   "cell_type": "code",
   "execution_count": 13,
   "id": "f3f90bce",
   "metadata": {},
   "outputs": [
    {
     "name": "stdout",
     "output_type": "stream",
     "text": [
      "[4, 16, 36, 64, 100]\n",
      "[4, 16, 36, 64, 100]\n"
     ]
    }
   ],
   "source": [
    "#make a list with each even number being increasing by power of 2.\n",
    "my_list = [x**2 for x in range(1, 11) if x % 2 == 0]   # [<expression> for <variable> in <list> if <condition>]\n",
    "#The first 'x' is our expression.\n",
    "#The second ‘x’ represents each item in the list created by the range() method.\n",
    "print(my_list)\n",
    "\n",
    "#The code above is equivalent to the code below\n",
    "\n",
    "my_list = []\n",
    "\n",
    "for x in range(1, 11):\n",
    "    if x % 2 == 0:\n",
    "        my_list.append(x**2)\n",
    "    else:\n",
    "        pass\n",
    "\n",
    "print(my_list)"
   ]
  },
  {
   "cell_type": "code",
   "execution_count": 14,
   "id": "10fd1a07",
   "metadata": {},
   "outputs": [
    {
     "name": "stdout",
     "output_type": "stream",
     "text": [
      "{1: 1, 2: 4, 3: 9, 4: 16, 5: 25}\n"
     ]
    }
   ],
   "source": [
    "#get all the positive numbers within 6 as the keys and will keep the corresponding squares of those numbers as the values\n",
    "my_dict = {x:x**2 for x in range(1, 6)}\n",
    "print(my_dict)"
   ]
  },
  {
   "cell_type": "markdown",
   "id": "c0a5801b",
   "metadata": {},
   "source": [
    "And... You are ready for the next destination anymore! 🚀.............................................📍Data Structures: Lists"
   ]
  }
 ],
 "metadata": {
  "kernelspec": {
   "display_name": "Python 3 (ipykernel)",
   "language": "python",
   "name": "python3"
  },
  "language_info": {
   "codemirror_mode": {
    "name": "ipython",
    "version": 3
   },
   "file_extension": ".py",
   "mimetype": "text/x-python",
   "name": "python",
   "nbconvert_exporter": "python",
   "pygments_lexer": "ipython3",
   "version": "3.9.13"
  }
 },
 "nbformat": 4,
 "nbformat_minor": 5
}
